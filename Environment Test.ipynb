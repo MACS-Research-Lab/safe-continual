{
 "cells": [
  {
   "cell_type": "code",
   "execution_count": 1,
   "metadata": {},
   "outputs": [],
   "source": [
    "import safety_gymnasium\n",
    "\n",
    "# Two environments with nonstationarity\n",
    "# env_id = 'SafetyAntVelocity-v2'\n",
    "env_id = 'SafetyHalfCheetahVelocity-v5'\n",
    "\n",
    "# Whether to render\n",
    "env = safety_gymnasium.make(env_id, render_mode='human')\n",
    "# env = safety_gymnasium.make(env_id)\n",
    "\n",
    "rewards = []\n",
    "costs = []\n",
    "\n",
    "obs, info = env.reset()\n",
    "while True:\n",
    "    act = env.action_space.sample() \n",
    "    obs, reward, cost, terminated, truncated, info = env.step(act)\n",
    "    rewards.append(reward)\n",
    "    costs.append(cost)\n",
    "    if terminated or truncated:\n",
    "        break\n",
    "    env.render() # comment this out if not rendering"
   ]
  }
 ],
 "metadata": {
  "kernelspec": {
   "display_name": "continual-rl",
   "language": "python",
   "name": "python3"
  },
  "language_info": {
   "codemirror_mode": {
    "name": "ipython",
    "version": 3
   },
   "file_extension": ".py",
   "mimetype": "text/x-python",
   "name": "python",
   "nbconvert_exporter": "python",
   "pygments_lexer": "ipython3",
   "version": "3.10.15"
  }
 },
 "nbformat": 4,
 "nbformat_minor": 2
}
